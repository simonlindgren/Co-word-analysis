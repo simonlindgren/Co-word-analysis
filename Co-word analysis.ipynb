{
 "cells": [
  {
   "cell_type": "markdown",
   "metadata": {},
   "source": [
    "## Co-word analysis\n",
    "\n",
    "This notebook was posted by Simon Lindgren // [@simonlindgren](http://www.twitter.com/simonlindgren) // [simonlindgren.com](http://simonlindgren.com)\n",
    "\n",
    "It is about examining pairwise *correlation* among words. This is a form of [co-occurrence](https://en.wikipedia.org/wiki/Co-occurrence_networks), or [co-word](http://journals.sagepub.com/doi/abs/10.1177/053901883022002003), analysis.\n",
    "\n",
    "The code below draws on the book [Text Mining with R](http://tidytextmining.com) by [Julia Silge](http://juliasilge.com) and [David Robinson](http://varianceexplained.org)."
   ]
  },
  {
   "cell_type": "code",
   "execution_count": null,
   "metadata": {
    "collapsed": true
   },
   "outputs": [],
   "source": [
    "library(tidyverse)\n",
    "library(tidytext)"
   ]
  },
  {
   "cell_type": "markdown",
   "metadata": {},
   "source": [
    "First, we read a mass of text using the `readLines()` function, and converting it into a dataframe object."
   ]
  },
  {
   "cell_type": "code",
   "execution_count": null,
   "metadata": {},
   "outputs": [],
   "source": [
    "text_df <- readLines(\"canterville_ghost.txt\") %>%\n",
    "    data_frame(text = .) %>%\n",
    "    mutate(line = row_number()) # add line numbers (not necessary)\n",
    "text_df"
   ]
  },
  {
   "cell_type": "markdown",
   "metadata": {},
   "source": [
    "Then, we divide the text into 10-line sections."
   ]
  },
  {
   "cell_type": "code",
   "execution_count": null,
   "metadata": {},
   "outputs": [],
   "source": [
    "text_section_words <- text_df %>%\n",
    "    mutate(section = row_number() %/% 10)\n",
    "text_section_words"
   ]
  },
  {
   "cell_type": "markdown",
   "metadata": {},
   "source": [
    "Now, which *words* (tokens) appear within which section"
   ]
  },
  {
   "cell_type": "code",
   "execution_count": null,
   "metadata": {},
   "outputs": [],
   "source": [
    "data(stop_words)\n",
    "\n",
    "text_section_words <- text_section_words %>% \n",
    "    unnest_tokens(word, text) %>%\n",
    "    filter(!word %in% stop_words$word) # remove stopwords!\n",
    "text_section_words"
   ]
  },
  {
   "cell_type": "markdown",
   "metadata": {},
   "source": [
    "We use the `pairwise_count()` function from the [`widyr`](https://github.com/dgrtwo/widyr) package. Using the prefix `pairwise_` results in one row for each pair of words in the word variable. This lets us count common pairs of words co-appearing within the same section"
   ]
  },
  {
   "cell_type": "code",
   "execution_count": null,
   "metadata": {},
   "outputs": [],
   "source": [
    "library(widyr)"
   ]
  },
  {
   "cell_type": "code",
   "execution_count": null,
   "metadata": {},
   "outputs": [],
   "source": [
    "# count words co-occuring within sections\n",
    "word_pairs <- text_section_words %>%\n",
    "    pairwise_count(word, section, sort = TRUE)\n",
    "word_pairs"
   ]
  },
  {
   "cell_type": "markdown",
   "metadata": {},
   "source": [
    "We can ask questions such as: Which word occurs most often with word X? "
   ]
  },
  {
   "cell_type": "code",
   "execution_count": null,
   "metadata": {},
   "outputs": [],
   "source": [
    "word_pairs %>%\n",
    "  filter(item1 == \"ghost\")"
   ]
  },
  {
   "cell_type": "markdown",
   "metadata": {},
   "source": [
    "###### Pairwise correlations \n",
    "We can now use the `pairwise_cor()` function in `widyr` to find the [phi coefficient](https://en.wikipedia.org/wiki/Phi_coefficient) between words based on how often they appear in the same section."
   ]
  },
  {
   "cell_type": "code",
   "execution_count": null,
   "metadata": {},
   "outputs": [],
   "source": [
    "word_cors <- text_section_words %>%\n",
    "  group_by(word) %>%\n",
    "  filter(n() >= 20) %>% # filter for the words with n > 20\n",
    "  pairwise_cor(word, section, sort = TRUE)\n",
    "\n",
    "word_cors"
   ]
  },
  {
   "cell_type": "code",
   "execution_count": null,
   "metadata": {
    "collapsed": true
   },
   "outputs": [],
   "source": [
    "# Which words are the most correlated with word X?\n",
    "\n",
    "word_cors %>%\n",
    "  filter(item1 == \"lord\")"
   ]
  },
  {
   "cell_type": "markdown",
   "metadata": {},
   "source": [
    "This lets us pick particular interesting words and find the other words most associated with them."
   ]
  },
  {
   "cell_type": "code",
   "execution_count": null,
   "metadata": {},
   "outputs": [],
   "source": [
    "word_cors %>%\n",
    "  filter(item1 %in% c(\"lord\", \"ghost\", \"canterville\", \"family\")) %>%\n",
    "  group_by(item1) %>%\n",
    "  top_n(6) %>%\n",
    "  ungroup() %>%\n",
    "  mutate(item2 = reorder(item2, correlation)) %>%\n",
    "  ggplot(aes(item2, correlation)) +\n",
    "  geom_bar(stat = \"identity\") +\n",
    "  facet_wrap(~ item1, scales = \"free\") +\n",
    "  coord_flip()"
   ]
  },
  {
   "cell_type": "markdown",
   "metadata": {},
   "source": [
    "######  Co-word network graph\n",
    "We can use `igraph` and `ggraph` to visualise the correlations found by the `widyr` package."
   ]
  },
  {
   "cell_type": "code",
   "execution_count": null,
   "metadata": {},
   "outputs": [],
   "source": [
    "library(ggraph)\n",
    "library(igraph)"
   ]
  },
  {
   "cell_type": "code",
   "execution_count": null,
   "metadata": {
    "collapsed": true
   },
   "outputs": [],
   "source": [
    "word_cors %>%\n",
    "  filter(correlation > .01) %>% # adjust filter level\n",
    "  graph_from_data_frame() %>%\n",
    "  ggraph(layout = \"fr\") +\n",
    "  geom_edge_link(aes(edge_alpha = correlation), show.legend = FALSE) +\n",
    "  geom_node_point(color = \"lightblue\", size = 5) +\n",
    "  geom_node_text(aes(label = name), repel = TRUE) +\n",
    "  theme_void()\n",
    "\n",
    "# Pairs of words in the analysed text that show at least a .01 \n",
    "# correlation of appearing within the same 10-line section"
   ]
  }
 ],
 "metadata": {
  "kernelspec": {
   "display_name": "R",
   "language": "R",
   "name": "ir"
  },
  "language_info": {
   "codemirror_mode": "r",
   "file_extension": ".r",
   "mimetype": "text/x-r-source",
   "name": "R",
   "pygments_lexer": "r",
   "version": "3.3.2"
  }
 },
 "nbformat": 4,
 "nbformat_minor": 2
}
